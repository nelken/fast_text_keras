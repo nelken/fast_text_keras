{
 "cells": [
  {
   "cell_type": "code",
   "execution_count": 5,
   "metadata": {
    "collapsed": false
   },
   "outputs": [],
   "source": [
    "import numpy as np\n",
    "import matplotlib.pyplot as plt\n",
    "import re\n",
    "import os\n",
    "\n",
    "from keras.models import Sequential\n",
    "from keras.preprocessing.text import Tokenizer\n",
    "from keras.layers import GlobalAveragePooling1D, GlobalMaxPooling1D\n",
    "from keras.preprocessing import sequence\n",
    "from keras.layers.embeddings import Embedding\n",
    "from keras.layers.core import Dense, Flatten"
   ]
  },
  {
   "cell_type": "code",
   "execution_count": 16,
   "metadata": {
    "collapsed": false
   },
   "outputs": [],
   "source": [
    "root = \"imdb/aclImdb\"\n",
    "   \n",
    "splits = ['train', 'test']\n",
    "labels = ['pos', 'neg']\n",
    "paths = [\"%s/%s/%s\" %(root, split, label ) for split in splits for label in labels]\n",
    "\n",
    "files=[]\n",
    "for path in paths:\n",
    "    files += ['%s/%s' %(path,x) for x in os.listdir(path)]\n",
    "    \n",
    "TAG_RE = re.compile(r'<[^>]+>')\n",
    "\n",
    "def remove_tags(text):\n",
    "    return TAG_RE.sub('', text)\n",
    "\n",
    "def readFile(f):\n",
    "    with open(f) as fin:\n",
    "        return remove_tags(\" \".join(fin.readlines()))\n",
    "    \n",
    "input_label = ([1] * 12500 + [0] * 12500) * 2\n",
    "input_text  = [readFile(f) for f in files]\n"
   ]
  },
  {
   "cell_type": "code",
   "execution_count": 17,
   "metadata": {
    "collapsed": false
   },
   "outputs": [],
   "source": [
    "train_size = 25000\n",
    "num_words = 10000\n",
    "tok = Tokenizer(num_words)\n",
    "tok.fit_on_texts(input_text[:train_size])\n",
    "maxlen=300"
   ]
  },
  {
   "cell_type": "code",
   "execution_count": 18,
   "metadata": {
    "collapsed": false
   },
   "outputs": [],
   "source": [
    "X_train = tok.texts_to_sequences(input_text[:train_size])\n",
    "y_train = input_label[:train_size]\n",
    "\n",
    "X_test  = tok.texts_to_sequences(input_text[train_size:])\n",
    "y_test  = input_label[train_size:]\n",
    "\n",
    "X_train = sequence.pad_sequences(X_train, maxlen=maxlen)\n",
    "X_test  = sequence.pad_sequences(X_test,  maxlen=maxlen)"
   ]
  },
  {
   "cell_type": "code",
   "execution_count": 19,
   "metadata": {
    "collapsed": false
   },
   "outputs": [],
   "source": [
    "import w2v\n",
    "embeddings = w2v.Word2VecModel('GoogleNews-vectors-negative300.bin')\n",
    "vocab_dim = 300 # dimensionality of your word vectors\n"
   ]
  },
  {
   "cell_type": "code",
   "execution_count": 20,
   "metadata": {
    "collapsed": false
   },
   "outputs": [],
   "source": [
    "embedding_weights = np.zeros((num_words,vocab_dim))\n",
    "inverted_index = {v:k for k,v in tok.word_index.iteritems()}\n",
    "for i in xrange(1, num_words):\n",
    "    embedding_weights[i] = embeddings.lookup(inverted_index[i], False)\n"
   ]
  },
  {
   "cell_type": "code",
   "execution_count": 24,
   "metadata": {
    "collapsed": false
   },
   "outputs": [
    {
     "name": "stdout",
     "output_type": "stream",
     "text": [
      "Train on 25000 samples, validate on 25000 samples\n",
      "Epoch 1/3\n",
      "25000/25000 [==============================] - 81s - loss: 0.4873 - acc: 0.7921 - val_loss: 0.3503 - val_acc: 0.8584\n",
      "Epoch 2/3\n",
      "25000/25000 [==============================] - 84s - loss: 0.2758 - acc: 0.8954 - val_loss: 0.2912 - val_acc: 0.8820\n",
      "Epoch 3/3\n",
      "25000/25000 [==============================] - 90s - loss: 0.2173 - acc: 0.9207 - val_loss: 0.2798 - val_acc: 0.8861\n",
      "0.88612\n"
     ]
    }
   ],
   "source": [
    "def train(weights, batch_size = 32, nb_epoch = 5):\n",
    "    model = Sequential()\n",
    "\n",
    "    model.add(Embedding(num_words,\n",
    "                        vocab_dim,\n",
    "                        input_length=maxlen, weights=weights #, dropout=0.2\n",
    "                       ))\n",
    "\n",
    "    model.add(GlobalAveragePooling1D())\n",
    "    \n",
    "\n",
    "    # We project onto a single unit output layer, and squash it with a sigmoid:\n",
    "    model.add(Dense(1, activation='sigmoid'))\n",
    "\n",
    "    model.compile(loss='binary_crossentropy',\n",
    "                  optimizer='adam',\n",
    "                  metrics=['accuracy'])\n",
    "\n",
    "    history = model.fit(X_train, y_train,\n",
    "              batch_size=batch_size,\n",
    "              nb_epoch=nb_epoch,\n",
    "              validation_data=(X_test, y_test), verbose=1)\n",
    "    return history\n",
    "\n",
    "useW2V = False\n",
    "weights = [emdedding_weights] if useW2V else None\n",
    "    \n",
    "history = train(None, batch_size=32, nb_epoch=3)\n",
    "print(history.history['val_acc'][-1])\n",
    "\n",
    "#history = train(weights, batch_size=32, nb_epoch=1)\n",
    "#print(history.history['val_acc'][-1])\n",
    "\n"
   ]
  },
  {
   "cell_type": "code",
   "execution_count": 25,
   "metadata": {
    "collapsed": false
   },
   "outputs": [
    {
     "name": "stdout",
     "output_type": "stream",
     "text": [
      "['acc', 'loss', 'val_acc', 'val_loss']\n"
     ]
    },
    {
     "data": {
      "image/png": "[encoded data removed]",
      "text/plain": [
       "<matplotlib.figure.Figure at 0x2fe798c90>"
      ]
     },
     "metadata": {},
     "output_type": "display_data"
    }
   ],
   "source": [
    "import matplotlib.pyplot as plt\n",
    "\n",
    "# list all data in history\n",
    "print(history.history.keys())\n",
    "# summarize history for accuracy\n",
    "plt.plot(history.history['acc'])\n",
    "plt.plot(history.history['val_acc'])\n",
    "plt.title('model accuracy')\n",
    "plt.ylabel('accuracy')\n",
    "plt.xlabel('epoch')\n",
    "plt.legend(['train', 'test'], loc='upper left')\n",
    "plt.show()\n"
   ]
  }
 ],
 "metadata": {
  "kernelspec": {
   "display_name": "Python 2",
   "language": "python",
   "name": "python2"
  },
  "language_info": {
   "codemirror_mode": {
    "name": "ipython",
    "version": 2
   },
   "file_extension": ".py",
   "mimetype": "text/x-python",
   "name": "python",
   "nbconvert_exporter": "python",
   "pygments_lexer": "ipython2",
   "version": "2.7.10"
  }
 },
 "nbformat": 4,
 "nbformat_minor": 0
}
