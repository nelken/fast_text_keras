{
 "cells": [
  {
   "cell_type": "code",
   "execution_count": 2,
   "metadata": {
    "collapsed": false
   },
   "outputs": [],
   "source": [
    "%matplotlib inline\n",
    "\n",
    "import matplotlib\n",
    "import numpy as np\n",
    "import matplotlib.pyplot as plt\n",
    "\n",
    "import re\n",
    "import os\n",
    "\n",
    "from keras.models import Sequential\n",
    "from keras.preprocessing.text import Tokenizer\n",
    "from keras.layers import GlobalAveragePooling1D, GlobalMaxPooling1D\n",
    "from keras.preprocessing import sequence\n",
    "from keras.layers.embeddings import Embedding\n",
    "from keras.layers.core import Activation, Dense, Flatten, Dropout\n",
    "from keras.layers.recurrent import SimpleRNN"
   ]
  },
  {
   "cell_type": "code",
   "execution_count": 4,
   "metadata": {
    "collapsed": false
   },
   "outputs": [],
   "source": [
    "root = \"imdb/aclImdb\"\n",
    "   \n",
    "splits = ['train', 'test']\n",
    "labels = ['pos', 'neg']\n",
    "paths = [\"%s/%s/%s\" %(root, split, label ) for split in splits for label in labels]\n",
    "\n",
    "files=[]\n",
    "for path in paths:\n",
    "    files += ['%s/%s' %(path,x) for x in os.listdir(path)]\n",
    "    \n",
    "TAG_RE = re.compile(r'<[^>]+>')\n",
    "\n",
    "def remove_tags(text):\n",
    "    return TAG_RE.sub('', text)\n",
    "\n",
    "def readFile(f):\n",
    "    with open(f) as fin:\n",
    "        return remove_tags(\" \".join(fin.readlines()))\n",
    "    \n",
    "input_label = ([1] * 12500 + [0] * 12500) * 2\n",
    "input_text  = [readFile(f) for f in files]\n"
   ]
  },
  {
   "cell_type": "code",
   "execution_count": 5,
   "metadata": {
    "collapsed": false
   },
   "outputs": [],
   "source": [
    "train_size = 25000\n",
    "num_words = 10000\n",
    "tok = Tokenizer(num_words)\n",
    "tok.fit_on_texts(input_text[:train_size])\n",
    "maxlen=100\n",
    "vocab_dim = 100"
   ]
  },
  {
   "cell_type": "code",
   "execution_count": 6,
   "metadata": {
    "collapsed": false
   },
   "outputs": [],
   "source": [
    "X_train = tok.texts_to_sequences(input_text[:train_size])\n",
    "y_train = input_label[:train_size]\n",
    "\n",
    "X_test  = tok.texts_to_sequences(input_text[train_size:])\n",
    "y_test  = input_label[train_size:]\n",
    "\n",
    "X_train = sequence.pad_sequences(X_train, maxlen=maxlen)\n",
    "X_test  = sequence.pad_sequences(X_test,  maxlen=maxlen)"
   ]
  },
  {
   "cell_type": "code",
   "execution_count": 19,
   "metadata": {
    "collapsed": false
   },
   "outputs": [],
   "source": [
    "if 0:\n",
    "    import w2v\n",
    "    embeddings = w2v.Word2VecModel('GoogleNews-vectors-negative300.bin')\n",
    "    embedding_weights = np.zeros((num_words,vocab_dim))\n",
    "    inverted_index = {v:k for k,v in tok.word_index.iteritems()}\n",
    "    for i in xrange(1, num_words):\n",
    "        embedding_weights[i] = embeddings.lookup(inverted_index[i], False)\n"
   ]
  },
  {
   "cell_type": "code",
   "execution_count": null,
   "metadata": {
    "collapsed": false
   },
   "outputs": [
    {
     "name": "stdout",
     "output_type": "stream",
     "text": [
      "Train on 25000 samples, validate on 25000 samples\n",
      "Epoch 1/5\n",
      "25000/25000 [==============================] - 71s - loss: 0.5647 - acc: 0.6738 - val_loss: 0.4163 - val_acc: 0.8230\n",
      "Epoch 2/5\n",
      "11200/25000 [============>.................] - ETA: 29s - loss: 0.3695 - acc: 0.8434"
     ]
    }
   ],
   "source": [
    "model = Sequential()\n",
    "\n",
    "model.add(Embedding(num_words, 32, input_length=100))\n",
    "model.add(Dropout(0.25))\n",
    "\n",
    "model.add(SimpleRNN(16, return_sequences=False))\n",
    "\n",
    "model.add(Dense(256))\n",
    "model.add(Dropout(0.25))\n",
    "model.add(Activation('relu'))\n",
    "\n",
    "model.add(Dense(1))\n",
    "model.add(Activation('sigmoid'))\n",
    "\n",
    "model.compile(loss='binary_crossentropy', optimizer='rmsprop', metrics=['accuracy'])\n",
    "trainedModel = model.fit(X_train, y_train, batch_size=32, nb_epoch=5, verbose=1,\n",
    "          validation_data=(X_test, y_test))"
   ]
  },
  {
   "cell_type": "code",
   "execution_count": 8,
   "metadata": {
    "collapsed": false
   },
   "outputs": [
    {
     "name": "stdout",
     "output_type": "stream",
     "text": [
      "['acc', 'loss', 'val_acc', 'val_loss']\n"
     ]
    },
    {
     "data": {
      "image/png": "[encoded data removed]",
      "text/plain": [
       "<matplotlib.figure.Figure at 0x1055ba6d0>"
      ]
     },
     "metadata": {},
     "output_type": "display_data"
    }
   ],
   "source": [
    "print(trainedModel.history.keys())\n",
    "# summarize history for accuracy\n",
    "plt.plot(trainedModel.history['acc'])\n",
    "plt.plot(trainedModel.history['val_acc'])\n",
    "plt.title('model accuracy')\n",
    "plt.ylabel('accuracy')\n",
    "plt.xlabel('epoch')\n",
    "plt.legend(['train', 'test'], loc='upper left')\n",
    "plt.show()\n"
   ]
  }
 ],
 "metadata": {
  "kernelspec": {
   "display_name": "Python 2",
   "language": "python",
   "name": "python2"
  },
  "language_info": {
   "codemirror_mode": {
    "name": "ipython",
    "version": 2
   },
   "file_extension": ".py",
   "mimetype": "text/x-python",
   "name": "python",
   "nbconvert_exporter": "python",
   "pygments_lexer": "ipython2",
   "version": "2.7.10"
  }
 },
 "nbformat": 4,
 "nbformat_minor": 0
}
